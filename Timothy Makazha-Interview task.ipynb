{
 "cells": [
  {
   "cell_type": "code",
   "execution_count": 25,
   "id": "2caefe78-9312-4063-9160-e7d85963de9e",
   "metadata": {},
   "outputs": [],
   "source": [
    "import pandas as pd\n",
    "\n",
    "df = pd.read_excel(r\"C:\\Users\\tmakhaza\\Desktop\\Palindrone-Interview Task.xlsx\")"
   ]
  },
  {
   "cell_type": "code",
   "execution_count": 26,
   "id": "902f6cb3-2c2a-451a-a91f-14e657c7f5bd",
   "metadata": {},
   "outputs": [
    {
     "name": "stdout",
     "output_type": "stream",
     "text": [
      "                     District Code     Estimate  Prevalence_%  Prevalence_LCL  \\\n",
      "0                Buffalo City  BUF       Survey     13.600000       10.268000   \n",
      "1                Buffalo City  BUF  Fay-Heriott     13.501283       11.031605   \n",
      "2           City of Cape Town  CPT       Survey      5.200000        3.044000   \n",
      "3           City of Cape Town  CPT  Fay-Heriott      6.020043        4.335072   \n",
      "4                  West Coast  DC1       Survey      2.700000        0.000000   \n",
      "..                        ...  ...          ...           ...             ...   \n",
      "99                   Mangaung  MAN  Fay-Heriott      9.147425        6.725917   \n",
      "100  Nelson Mandela Bay Metro  NMA       Survey      8.300000        3.400000   \n",
      "101  Nelson Mandela Bay Metro  NMA  Fay-Heriott      9.054060        6.128703   \n",
      "102           City of Tshwane  TSH       Survey     11.700000        7.388000   \n",
      "103           City of Tshwane  TSH  Fay-Heriott     11.024858        8.255934   \n",
      "\n",
      "     Prevalence_UCL  NoPLHIV  NoPLHIV_LCL  NoPLHIV_UCL  \n",
      "0         16.932000   102437        77340       127534  \n",
      "1         16.421802   101693        83092       123691  \n",
      "2          7.356000   200751       117517       283985  \n",
      "3          8.303091   232409       167359       320548  \n",
      "4          5.444000    11302            0        22789  \n",
      "..              ...      ...          ...          ...  \n",
      "99        12.325536   101520        74646       136792  \n",
      "100       13.200000    97459        39923       154995  \n",
      "101       13.179704   106313        71964       154757  \n",
      "102       16.012000   361450       228239       494661  \n",
      "103       14.574909   340593       255052       450265  \n",
      "\n",
      "[104 rows x 9 columns]\n"
     ]
    }
   ],
   "source": [
    "print(df)"
   ]
  },
  {
   "cell_type": "code",
   "execution_count": 28,
   "id": "4577e2be-f80e-4ff5-82c5-5764a7880043",
   "metadata": {},
   "outputs": [
    {
     "data": {
      "text/plain": [
       "6409903"
      ]
     },
     "execution_count": 28,
     "metadata": {},
     "output_type": "execute_result"
    }
   ],
   "source": [
    "# (2a) Calculating the total for Number of PLHIV for all districts\n",
    "Survey_estimates = df.query ('Estimate == \"Survey\"')\n",
    "Survey_estimates[\"NoPLHIV\"].sum()"
   ]
  },
  {
   "cell_type": "code",
   "execution_count": 30,
   "id": "b2323045-50d0-4ed9-a5cf-2b029616b982",
   "metadata": {},
   "outputs": [
    {
     "data": {
      "text/plain": [
       "12247.5"
      ]
     },
     "execution_count": 30,
     "metadata": {},
     "output_type": "execute_result"
    }
   ],
   "source": [
    "# (2b). Calculating the mean number of PLHIV for the two estimates in Xhariep district\n",
    "# district = ['Xhariep', '']\n",
    "Xhariepdata = df.query('District == \"Xhariep\"')\n",
    "Xhariepdata[\"NoPLHIV\"].mean()\n"
   ]
  },
  {
   "cell_type": "code",
   "execution_count": 33,
   "id": "6751844c-8291-41dc-8f88-aaa77bea480f",
   "metadata": {},
   "outputs": [
    {
     "name": "stdout",
     "output_type": "stream",
     "text": [
      "                     District Code     Estimate  Prevalence_%  Prevalence_LCL  \\\n",
      "0                Buffalo City  BUF       Survey     13.600000       10.268000   \n",
      "1                Buffalo City  BUF  Fay-Heriott     13.501283       11.031605   \n",
      "2           City of Cape Town  CPT       Survey      5.200000        3.044000   \n",
      "3           City of Cape Town  CPT  Fay-Heriott      6.020043        4.335072   \n",
      "4                  West Coast  DC1       Survey      2.700000        0.000000   \n",
      "..                        ...  ...          ...           ...             ...   \n",
      "99                   Mangaung  MAN  Fay-Heriott      9.147425        6.725917   \n",
      "100  Nelson Mandela Bay Metro  NMA       Survey      8.300000        3.400000   \n",
      "101  Nelson Mandela Bay Metro  NMA  Fay-Heriott      9.054060        6.128703   \n",
      "102           City of Tshwane  TSH       Survey     11.700000        7.388000   \n",
      "103           City of Tshwane  TSH  Fay-Heriott     11.024858        8.255934   \n",
      "\n",
      "     Prevalence_UCL  NoPLHIV  NoPLHIV_LCL  NoPLHIV_UCL  Total_Population  \\\n",
      "0         16.932000   102437        77340       127534      7.532132e+05   \n",
      "1         16.421802   101693        83092       123691      7.532099e+05   \n",
      "2          7.356000   200751       117517       283985      3.860596e+06   \n",
      "3          8.303091   232409       167359       320548      3.860587e+06   \n",
      "4          5.444000    11302            0        22789      4.185926e+05   \n",
      "..              ...      ...          ...          ...               ...   \n",
      "99        12.325536   101520        74646       136792      1.109821e+06   \n",
      "100       13.200000    97459        39923       154995      1.174205e+06   \n",
      "101       13.179704   106313        71964       154757      1.174202e+06   \n",
      "102       16.012000   361450       228239       494661      3.089316e+06   \n",
      "103       14.574909   340593       255052       450265      3.089319e+06   \n",
      "\n",
      "     Not_Living_With_HIV  \n",
      "0           6.507762e+05  \n",
      "1           6.515169e+05  \n",
      "2           3.659845e+06  \n",
      "3           3.628178e+06  \n",
      "4           4.072906e+05  \n",
      "..                   ...  \n",
      "99          1.008301e+06  \n",
      "100         1.076746e+06  \n",
      "101         1.067889e+06  \n",
      "102         2.727866e+06  \n",
      "103         2.748726e+06  \n",
      "\n",
      "[104 rows x 11 columns]\n"
     ]
    }
   ],
   "source": [
    "# (2c) Create a new variable 'Total_Population'\n",
    "df['Total_Population'] = df['NoPLHIV'] / (df['Prevalence_%']/100)\n",
    "print(df)\n",
    "\n",
    "# Adding a new column 'Not_Living_With_HIV' and calculating the number of people not living with HIV for each row\n",
    "df['Not_Living_With_HIV'] = df['Total_Population'] - df['NoPLHIV']\n"
   ]
  },
  {
   "cell_type": "code",
   "execution_count": 36,
   "id": "9e2531d8-16bf-483e-9c82-99c02a2a1a5a",
   "metadata": {},
   "outputs": [
    {
     "name": "stdout",
     "output_type": "stream",
     "text": [
      "Total NoPLHIV in Cities: 2572733\n"
     ]
    }
   ],
   "source": [
    "# 2(d) Filter rows where the district name contains 'city' or 'metro'\n",
    "city_df = df[df['District'].str.contains('City', case=False) | df['District'].str.contains('Metro', case=False)]\n",
    "\n",
    "# Calculate the total number of people living with HIV in cities\n",
    "total_no_plhiv_cities = city_df['NoPLHIV'].sum()\n",
    "\n",
    "# Display the total number of PLHIV in cities\n",
    "print(f'Total NoPLHIV in Cities: {total_no_plhiv_cities}')"
   ]
  },
  {
   "cell_type": "code",
   "execution_count": 38,
   "id": "1ffc0a13-7de2-418e-b6a1-7cdd0882b997",
   "metadata": {},
   "outputs": [
    {
     "name": "stdout",
     "output_type": "stream",
     "text": [
      "Index(['District', 'Code', 'Estimate', 'Prevalence', 'PrevalenceLCL',\n",
      "       'PrevalenceUCL', 'NoPLHIV', 'NoPLHIVLCL', 'NoPLHIVUCL',\n",
      "       'TotalPopulation', 'NotLivingWithHIV'],\n",
      "      dtype='object')\n"
     ]
    },
    {
     "name": "stderr",
     "output_type": "stream",
     "text": [
      "C:\\Users\\tmakhaza\\AppData\\Local\\Temp/ipykernel_10884/3552070293.py:2: FutureWarning: The default value of regex will change from True to False in a future version.\n",
      "  df.columns = df.columns.str.replace('[^a-zA-Z0-9]+', '')\n"
     ]
    }
   ],
   "source": [
    "# (3) Remove special/non-alphabetic characters from column names\n",
    "df.columns = df.columns.str.replace('[^a-zA-Z0-9]+', '')\n",
    "\n",
    "# Display the resultant field names output\n",
    "print(df.columns)"
   ]
  },
  {
   "cell_type": "code",
   "execution_count": 17,
   "id": "3f55b38a-a448-4511-bea6-fbd5d53c71a5",
   "metadata": {},
   "outputs": [],
   "source": [
    "import matplotlib.pyplot as plt"
   ]
  },
  {
   "cell_type": "code",
   "execution_count": null,
   "id": "9510212d-4c96-4b13-88a2-eac20658ee3a",
   "metadata": {},
   "outputs": [],
   "source": []
  }
 ],
 "metadata": {
  "kernelspec": {
   "display_name": "Python 3 (ipykernel)",
   "language": "python",
   "name": "python3"
  },
  "language_info": {
   "codemirror_mode": {
    "name": "ipython",
    "version": 3
   },
   "file_extension": ".py",
   "mimetype": "text/x-python",
   "name": "python",
   "nbconvert_exporter": "python",
   "pygments_lexer": "ipython3",
   "version": "3.9.7"
  }
 },
 "nbformat": 4,
 "nbformat_minor": 5
}
